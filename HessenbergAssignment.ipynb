{
 "cells": [
  {
   "cell_type": "markdown",
   "id": "1a659e44",
   "metadata": {},
   "source": [
    "# Hessenberg Assignment"
   ]
  },
  {
   "cell_type": "code",
   "execution_count": 94,
   "id": "cc37a329",
   "metadata": {},
   "outputs": [],
   "source": [
    "#using Pkg\n",
    "#Pkg.add(\"Distributions\")\n",
    "#Pkg.add(\"LinearAlgebra\")\n",
    "\n",
    "using Distributions\n",
    "using LinearAlgebra"
   ]
  },
  {
   "cell_type": "markdown",
   "id": "382ea01e",
   "metadata": {},
   "source": [
    "## Question 1\n",
    "### Implement and test a Julia function with A as input that returns a positive sub-diagonal upper Hessenberg matrix H with the same eigenvalues as A. Call your function Hess1."
   ]
  },
  {
   "cell_type": "code",
   "execution_count": 92,
   "id": "f8f5607b",
   "metadata": {},
   "outputs": [
    {
     "data": {
      "text/plain": [
       "Hess1 (generic function with 1 method)"
      ]
     },
     "execution_count": 92,
     "metadata": {},
     "output_type": "execute_result"
    }
   ],
   "source": [
    "function Hess1(A, m)\n",
    "    H = A;\n",
    "    i = 1;\n",
    "    \n",
    "    while (i < m)\n",
    "        u = H[:, i];\n",
    "        u[1 : i] *= 0.0;\n",
    "        u[i + 1] -= norm(u);\n",
    "        u = normalize(u);\n",
    "        Q = Matrix(I, m, m) .- 2 * kron(u, u');\n",
    "        H = Q .* H .* Q';\n",
    "        i += 1;\n",
    "    end\n",
    "    \n",
    "    display(H);\n",
    "    eigvals(A, H);\n",
    "    \n",
    "    return H;\n",
    "end"
   ]
  },
  {
   "cell_type": "markdown",
   "id": "182ba1c8",
   "metadata": {},
   "source": [
    "## Question 2 - Ashton\n",
    "### Modify your code from Q1 to take an additional argument that says how many steps to take.  Call your function Hess2."
   ]
  },
  {
   "cell_type": "code",
   "execution_count": null,
   "id": "5a558a56",
   "metadata": {},
   "outputs": [],
   "source": []
  },
  {
   "cell_type": "markdown",
   "id": "706a1079",
   "metadata": {},
   "source": [
    "## Question 3 - Isaac\n",
    "### Modify your code from Q2 to run from the bottom up.  Call your function Hess3."
   ]
  },
  {
   "cell_type": "code",
   "execution_count": 4,
   "id": "b8af7c2a",
   "metadata": {},
   "outputs": [
    {
     "data": {
      "text/plain": [
       "Hess3 (generic function with 1 method)"
      ]
     },
     "execution_count": 4,
     "metadata": {},
     "output_type": "execute_result"
    }
   ],
   "source": [
    "using LinearAlgebra\n",
    "\n",
    "function Hess3(A, m)\n",
    "    H = A;\n",
    "    i = 1;\n",
    "    \n",
    "    while (i < m)\n",
    "        u = H[i, All];\n",
    "        u[i : m] *= 0.0;\n",
    "        u[i - 1] -= norm(u);\n",
    "        u = normalize(u);\n",
    "        Q = I - 2 * kron(u, u);\n",
    "        H = Q .* H .* tranpose(Q);\n",
    "        i += 1;\n",
    "    end\n",
    "    \n",
    "    display(H);\n",
    "    eigvals(A, H);\n",
    "    \n",
    "    return H;\n",
    "end"
   ]
  },
  {
   "cell_type": "markdown",
   "id": "76615773",
   "metadata": {},
   "source": [
    "## Question 4 - Jenni\n",
    "### Run Hess2 halfway up a matrix A to get a matrix H2.  Run Hess3 on H2 to get a matrix H3. Describe the structure of the matrix H3."
   ]
  },
  {
   "cell_type": "code",
   "execution_count": null,
   "id": "153b06f4",
   "metadata": {},
   "outputs": [],
   "source": []
  },
  {
   "cell_type": "markdown",
   "id": "7ec970be",
   "metadata": {},
   "source": [
    "## Testing"
   ]
  },
  {
   "cell_type": "code",
   "execution_count": 100,
   "id": "0161f6e2",
   "metadata": {},
   "outputs": [
    {
     "data": {
      "text/plain": [
       "6×6 Matrix{Float64}:\n",
       " -0.476625    0.428055    0.544019  -0.325258   0.429385   0.0541507\n",
       " -0.0971553   0.736308   -0.776087  -0.744801   0.224609   0.919524\n",
       " -0.612475    0.0729874  -0.860972   0.222434  -0.433418  -0.688325\n",
       "  0.641073   -0.0569274   0.555666  -0.879593   0.130046   0.652719\n",
       "  0.825759   -0.288614    0.747683  -0.617965  -0.956999   0.50386\n",
       " -0.260569    0.617198   -0.238664   0.717122  -0.236942   0.921432"
      ]
     },
     "execution_count": 100,
     "metadata": {},
     "output_type": "execute_result"
    }
   ],
   "source": [
    "m = 6;\n",
    "A = rand(Uniform(-1.0, 1.0), (m, m))"
   ]
  },
  {
   "cell_type": "code",
   "execution_count": 101,
   "id": "fb7d82ff",
   "metadata": {},
   "outputs": [
    {
     "data": {
      "text/plain": [
       "6×6 Matrix{Float64}:\n",
       " -0.476625   0.0          0.0         -0.0          0.0          0.0\n",
       " -0.0        0.00449755  -0.0         -0.0          0.0          0.0\n",
       " -0.0        0.0         -0.00927404   0.0         -0.0         -0.0\n",
       "  0.0       -0.0          0.0         -1.94023e-5   0.0          0.0\n",
       "  0.0       -0.0          0.0         -0.0         -6.60752e-8   0.0\n",
       " -0.0        0.0         -0.0          0.0         -0.0          0.767566"
      ]
     },
     "metadata": {},
     "output_type": "display_data"
    },
    {
     "data": {
      "text/plain": [
       "6×6 Matrix{Float64}:\n",
       " -0.476625   0.0          0.0         -0.0          0.0          0.0\n",
       " -0.0        0.00449755  -0.0         -0.0          0.0          0.0\n",
       " -0.0        0.0         -0.00927404   0.0         -0.0         -0.0\n",
       "  0.0       -0.0          0.0         -1.94023e-5   0.0          0.0\n",
       "  0.0       -0.0          0.0         -0.0         -6.60752e-8   0.0\n",
       " -0.0        0.0         -0.0          0.0         -0.0          0.767566"
      ]
     },
     "execution_count": 101,
     "metadata": {},
     "output_type": "execute_result"
    }
   ],
   "source": [
    "Hess1(A, m)"
   ]
  },
  {
   "cell_type": "code",
   "execution_count": null,
   "id": "cec838ff",
   "metadata": {},
   "outputs": [],
   "source": []
  }
 ],
 "metadata": {
  "kernelspec": {
   "display_name": "Julia 1.9.3",
   "language": "julia",
   "name": "julia-1.9"
  },
  "language_info": {
   "file_extension": ".jl",
   "mimetype": "application/julia",
   "name": "julia",
   "version": "1.9.3"
  }
 },
 "nbformat": 4,
 "nbformat_minor": 5
}
