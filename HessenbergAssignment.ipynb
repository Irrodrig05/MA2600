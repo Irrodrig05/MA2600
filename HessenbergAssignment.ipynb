{
 "cells": [
  {
   "cell_type": "markdown",
   "id": "1a659e44",
   "metadata": {},
   "source": [
    "# Hessenberg Assignment"
   ]
  },
  {
   "cell_type": "code",
   "execution_count": 1,
   "id": "cc37a329",
   "metadata": {},
   "outputs": [],
   "source": [
    "#using Pkg\n",
    "#Pkg.add(\"Distributions\")\n",
    "#Pkg.add(\"LinearAlgebra\")\n",
    "\n",
    "using Distributions\n",
    "using LinearAlgebra"
   ]
  },
  {
   "cell_type": "markdown",
   "id": "382ea01e",
   "metadata": {},
   "source": [
    "## Question 1\n",
    "### Implement and test a Julia function with A as input that returns a positive sub-diagonal upper Hessenberg matrix H with the same eigenvalues as A. Call your function Hess1."
   ]
  },
  {
   "cell_type": "code",
   "execution_count": 2,
   "id": "f8f5607b",
   "metadata": {},
   "outputs": [
    {
     "data": {
      "text/plain": [
       "Hess1 (generic function with 1 method)"
      ]
     },
     "execution_count": 2,
     "metadata": {},
     "output_type": "execute_result"
    }
   ],
   "source": [
    "function Hess1(A, m)\n",
    "    H = copy(A);\n",
    "    i = 1;\n",
    "    \n",
    "    while (i < m - 1)\n",
    "        u = H[:, i];\n",
    "        u[1 : i] *= 0.0;\n",
    "        u[i + 1] -= norm(u);\n",
    "        u = normalize(u);\n",
    "        Q = I - 2.0 * kron(u, u');\n",
    "        H = Q * H * Q';\n",
    "        i += 1;\n",
    "    end\n",
    "    \n",
    "    display(eigvals(A));\n",
    "    display(eigvals(H));\n",
    "    display(H);\n",
    "    \n",
    "    return H;\n",
    "end"
   ]
  },
  {
   "cell_type": "markdown",
   "id": "182ba1c8",
   "metadata": {},
   "source": [
    "## Question 2 - Ashton\n",
    "### Modify your code from Q1 to take an additional argument that says how many steps to take.  Call your function Hess2."
   ]
  },
  {
   "cell_type": "code",
   "execution_count": 3,
   "id": "5a558a56",
   "metadata": {},
   "outputs": [
    {
     "data": {
      "text/plain": [
       "Hess2 (generic function with 1 method)"
      ]
     },
     "execution_count": 3,
     "metadata": {},
     "output_type": "execute_result"
    }
   ],
   "source": [
    "function Hess2(A,m,n)\n",
    "    H = copy(A);\n",
    "    i = 1;\n",
    "    \n",
    "    for i in 1:n\n",
    "        u = H[:, i];\n",
    "        u[1 : i] *= 0.0;\n",
    "        u[i + 1] -= norm(u);\n",
    "        u/= norm(u);\n",
    "        Q = Matrix(I, m, m)- 2 * kron(u, u');\n",
    "        H = Q * H * Q';\n",
    "    end\n",
    "    \n",
    "    display(triu(H,-1))\n",
    "    display(eigvals(A))\n",
    "    display(eigvals(H))\n",
    "    display(norm(eigvals(H)-eigvals(A)))\n",
    "    \n",
    "    return H\n",
    "end"
   ]
  },
  {
   "cell_type": "markdown",
   "id": "706a1079",
   "metadata": {},
   "source": [
    "## Question 3 - Isaac\n",
    "### Modify your code from Q2 to run from the bottom up.  Call your function Hess3."
   ]
  },
  {
   "cell_type": "code",
   "execution_count": 25,
   "id": "b8af7c2a",
   "metadata": {},
   "outputs": [
    {
     "data": {
      "text/plain": [
       "Hess3 (generic function with 1 method)"
      ]
     },
     "execution_count": 25,
     "metadata": {},
     "output_type": "execute_result"
    }
   ],
   "source": [
    "function Hess3(A, m, n)\n",
    "    H = copy(A);\n",
    "    i = n - 1;\n",
    "    \n",
    "    while (i > 1)\n",
    "        u = H[i, :];\n",
    "        u[i : m] *= 0.0;\n",
    "        u[i - 1] -= norm(u);\n",
    "        u = normalize(u);\n",
    "        Q = I - 2.0 * kron(u, u');\n",
    "        H = Q * H * Q';\n",
    "        i -= 1;\n",
    "    end\n",
    "    \n",
    "    display(eigvals(A));\n",
    "    display(eigvals(H));\n",
    "    display(H);\n",
    "    \n",
    "    return H;\n",
    "end"
   ]
  },
  {
   "cell_type": "markdown",
   "id": "76615773",
   "metadata": {},
   "source": [
    "## Question 4 - Jenni\n",
    "### Run Hess2 halfway up a matrix A to get a matrix H2.  Run Hess3 on H2 to get a matrix H3. Describe the structure of the matrix H3."
   ]
  },
  {
   "cell_type": "code",
   "execution_count": null,
   "id": "153b06f4",
   "metadata": {},
   "outputs": [],
   "source": []
  },
  {
   "cell_type": "markdown",
   "id": "7ec970be",
   "metadata": {},
   "source": [
    "## Testing"
   ]
  },
  {
   "cell_type": "code",
   "execution_count": 5,
   "id": "0161f6e2",
   "metadata": {},
   "outputs": [
    {
     "data": {
      "text/plain": [
       "7×7 Matrix{Float64}:\n",
       " -0.985338    0.863452  -0.0867582  …  -0.795348  -0.72158   -0.0801621\n",
       "  0.681803    0.699677  -0.974246      -0.532616  -0.254316  -0.89336\n",
       "  0.0429606   0.339145  -0.44954       -0.201478   0.363399   0.479892\n",
       " -0.565736   -0.680722  -0.312024      -0.415011  -0.350232   0.54475\n",
       "  0.659833   -0.222103   0.429759       0.581113   0.436559   0.585061\n",
       " -0.669944   -0.359433  -0.0543276  …   0.220615   0.286485   0.862393\n",
       " -0.351833    0.833628   0.842339       0.542961   0.557311  -0.23273"
      ]
     },
     "execution_count": 5,
     "metadata": {},
     "output_type": "execute_result"
    }
   ],
   "source": [
    "m = 7;\n",
    "A = rand(Uniform(-1.0, 1.0), (m, m))"
   ]
  },
  {
   "cell_type": "code",
   "execution_count": 6,
   "id": "fb7d82ff",
   "metadata": {},
   "outputs": [
    {
     "data": {
      "text/plain": [
       "7-element Vector{ComplexF64}:\n",
       "  -1.1819163515198035 + 0.0im\n",
       " -0.35562159692399814 + 0.0im\n",
       " -0.16505602991042312 - 0.6694112782548198im\n",
       " -0.16505602991042312 + 0.6694112782548198im\n",
       "  0.26641480811136264 - 1.0516662399717815im\n",
       "  0.26641480811136264 + 1.0516662399717815im\n",
       "    1.547178066647435 + 0.0im"
      ]
     },
     "metadata": {},
     "output_type": "display_data"
    },
    {
     "data": {
      "text/plain": [
       "7-element Vector{ComplexF64}:\n",
       " -1.1819163515198017 + 0.0im\n",
       "  -0.355621596923996 + 0.0im\n",
       " -0.1650560299104235 - 0.6694112782548214im\n",
       " -0.1650560299104235 + 0.6694112782548214im\n",
       " 0.26641480811136065 - 1.0516662399717813im\n",
       " 0.26641480811136065 + 1.0516662399717813im\n",
       "   1.547178066647434 + 0.0im"
      ]
     },
     "metadata": {},
     "output_type": "display_data"
    },
    {
     "data": {
      "text/plain": [
       "7×7 Matrix{Float64}:\n",
       " -0.985338      0.0537363     0.382935     …   0.0493276   0.568346\n",
       "  1.33968       0.237074     -0.435055        -0.260532   -0.243383\n",
       "  9.11819e-18   1.2553       -0.237096         0.49384    -0.966412\n",
       " -3.51451e-17  -1.9877e-16    1.07395         -1.12166    -0.59964\n",
       " -1.65673e-16   1.72452e-16  -9.37557e-17     -0.673412    0.027257\n",
       " -1.41051e-16  -1.98025e-16   2.06892e-16  …   0.204818   -0.426392\n",
       "  5.94833e-17  -1.85734e-16  -1.106e-16        0.346892    0.0231129"
      ]
     },
     "metadata": {},
     "output_type": "display_data"
    },
    {
     "data": {
      "text/plain": [
       "7×7 Matrix{Float64}:\n",
       " -0.985338  0.0537363   0.382935  1.06962    1.03644    0.0493276   0.568346\n",
       "  1.33968   0.237074   -0.435055  0.603064   0.657924  -0.260532   -0.243383\n",
       "  0.0       1.2553     -0.237096  0.767467  -0.211678   0.49384    -0.966412\n",
       "  0.0       0.0         1.07395   0.567483   0.231442  -1.12166    -0.59964\n",
       "  0.0       0.0         0.0       0.697891   0.402305  -0.673412    0.027257\n",
       "  0.0       0.0         0.0       0.0        0.988779   0.204818   -0.426392\n",
       "  0.0       0.0         0.0       0.0        0.0        0.346892    0.0231129"
      ]
     },
     "execution_count": 6,
     "metadata": {},
     "output_type": "execute_result"
    }
   ],
   "source": [
    "triu(Hess1(A, m), -1)"
   ]
  },
  {
   "cell_type": "code",
   "execution_count": 26,
   "id": "f826337f",
   "metadata": {},
   "outputs": [
    {
     "data": {
      "text/plain": [
       "7-element Vector{ComplexF64}:\n",
       "  -1.1819163515198035 + 0.0im\n",
       " -0.35562159692399814 + 0.0im\n",
       " -0.16505602991042312 - 0.6694112782548198im\n",
       " -0.16505602991042312 + 0.6694112782548198im\n",
       "  0.26641480811136264 - 1.0516662399717815im\n",
       "  0.26641480811136264 + 1.0516662399717815im\n",
       "    1.547178066647435 + 0.0im"
      ]
     },
     "metadata": {},
     "output_type": "display_data"
    },
    {
     "data": {
      "text/plain": [
       "7-element Vector{ComplexF64}:\n",
       "  -1.1819163515198001 + 0.0im\n",
       "  -0.3556215969239975 + 0.0im\n",
       " -0.16505602991042329 - 0.6694112782548198im\n",
       " -0.16505602991042329 + 0.6694112782548198im\n",
       "   0.2664148081113621 - 1.0516662399717815im\n",
       "   0.2664148081113621 + 1.0516662399717815im\n",
       "    1.547178066647433 + 0.0im"
      ]
     },
     "metadata": {},
     "output_type": "display_data"
    },
    {
     "data": {
      "text/plain": [
       "7×7 Matrix{Float64}:\n",
       " -0.0838858    -1.2703       …   0.45352    -0.353439   0.304961\n",
       "  0.701974      0.259933         0.936416   -0.552987   0.42731\n",
       " -2.02672e-18   0.636248        -0.347745    0.380828   0.308871\n",
       " -3.04019e-16  -2.53387e-19      0.401015    0.372679   0.826825\n",
       "  1.21656e-17  -2.95464e-16      0.199811    0.562161   0.786911\n",
       " -2.47286e-16   1.49895e-16  …   0.897486    0.286485   0.862393\n",
       " -0.546114     -0.223032        -0.0884552   0.557311  -0.23273"
      ]
     },
     "metadata": {},
     "output_type": "display_data"
    },
    {
     "data": {
      "text/plain": [
       "7×7 Matrix{Float64}:\n",
       " -0.0838858  -1.2703    -0.358076   …   0.45352   -0.353439   0.304961\n",
       "  0.701974    0.259933  -0.0483474      0.936416  -0.552987   0.42731\n",
       "  0.0         0.636248  -0.517225      -0.347745   0.380828   0.308871\n",
       "  0.0         0.0        0.925367       0.401015   0.372679   0.826825\n",
       "  0.0         0.0        0.0            0.199811   0.562161   0.786911\n",
       "  0.0         0.0        0.0        …   0.897486   0.286485   0.862393\n",
       "  0.0         0.0        0.0            0.0        0.557311  -0.23273"
      ]
     },
     "execution_count": 26,
     "metadata": {},
     "output_type": "execute_result"
    }
   ],
   "source": [
    "triu(Hess3(A, m, m), -1)"
   ]
  },
  {
   "cell_type": "code",
   "execution_count": null,
   "id": "a711797b",
   "metadata": {},
   "outputs": [],
   "source": []
  }
 ],
 "metadata": {
  "kernelspec": {
   "display_name": "Julia 1.9.3",
   "language": "julia",
   "name": "julia-1.9"
  },
  "language_info": {
   "file_extension": ".jl",
   "mimetype": "application/julia",
   "name": "julia",
   "version": "1.9.3"
  }
 },
 "nbformat": 4,
 "nbformat_minor": 5
}
