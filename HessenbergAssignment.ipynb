{
 "cells": [
  {
   "cell_type": "markdown",
   "id": "1a659e44",
   "metadata": {},
   "source": [
    "# Hessenberg Assignment"
   ]
  },
  {
   "cell_type": "code",
   "execution_count": 1,
   "id": "cc37a329",
   "metadata": {
    "tags": []
   },
   "outputs": [],
   "source": [
    "#using Pkg\n",
    "#Pkg.add(\"Distributions\")\n",
    "#Pkg.add(\"LinearAlgebra\")\n",
    "\n",
    "using Distributions\n",
    "using LinearAlgebra"
   ]
  },
  {
   "cell_type": "markdown",
   "id": "382ea01e",
   "metadata": {},
   "source": [
    "## Question 1\n",
    "### Implement and test a Julia function with A as input that returns a positive sub-diagonal upper Hessenberg matrix H with the same eigenvalues as A. Call your function Hess1."
   ]
  },
  {
   "cell_type": "code",
   "execution_count": 2,
   "id": "f8f5607b",
   "metadata": {},
   "outputs": [
    {
     "data": {
      "text/plain": [
       "Hess1 (generic function with 1 method)"
      ]
     },
     "execution_count": 2,
     "metadata": {},
     "output_type": "execute_result"
    }
   ],
   "source": [
    "function Hess1(A, m)\n",
    "    H = A;\n",
    "    i = 1;\n",
    "    \n",
    "    while (i < m)\n",
    "        u = H[:, i];\n",
    "        u[1 : i] *= 0.0;\n",
    "        u[i + 1] -= norm(u);\n",
    "        u = normalize(u);\n",
    "        Q = Matrix(I, m, m) .- 2 * kron(u, u');\n",
    "        H = Q .* H .* Q';\n",
    "        i += 1;\n",
    "    end\n",
    "    \n",
    "    display(H);\n",
    "    eigvals(A, H);\n",
    "    \n",
    "    return H;\n",
    "end"
   ]
  },
  {
   "cell_type": "markdown",
   "id": "182ba1c8",
   "metadata": {},
   "source": [
    "## Question 2 - Ashton\n",
    "### Modify your code from Q1 to take an additional argument that says how many steps to take.  Call your function Hess2."
   ]
  },
  {
   "cell_type": "code",
   "execution_count": 35,
   "id": "5a558a56",
   "metadata": {
    "tags": []
   },
   "outputs": [
    {
     "data": {
      "text/plain": [
       "Hess2 (generic function with 1 method)"
      ]
     },
     "execution_count": 35,
     "metadata": {},
     "output_type": "execute_result"
    }
   ],
   "source": [
    "function Hess2(A,m,n)\n",
    "    H = copy(A);\n",
    "    i = 1;\n",
    "    \n",
    "    for i in 1:n\n",
    "        u = H[:, i];\n",
    "        u[1 : i] *= 0.0;\n",
    "        u[i + 1] -= norm(u);\n",
    "        u/= norm(u);\n",
    "        Q = Matrix(I, m, m)- 2 * kron(u, u');\n",
    "        H = Q * H * Q';\n",
    "    end\n",
    "    \n",
    "    display(triu(H,-1))\n",
    "    display(eigvals(A))\n",
    "    display(eigvals(H))\n",
    "    display(norm(eigvals(H)-eigvals(A)))\n",
    "    \n",
    "    return H\n",
    "end"
   ]
  },
  {
   "cell_type": "markdown",
   "id": "706a1079",
   "metadata": {},
   "source": [
    "## Question 3 - Isaac\n",
    "### Modify your code from Q2 to run from the bottom up.  Call your function Hess3."
   ]
  },
  {
   "cell_type": "code",
   "execution_count": 58,
   "id": "b8af7c2a",
   "metadata": {},
   "outputs": [
    {
     "data": {
      "text/plain": [
       "Hess3 (generic function with 2 methods)"
      ]
     },
     "execution_count": 58,
     "metadata": {},
     "output_type": "execute_result"
    }
   ],
   "source": [
    "function Hess3(A,m,n)\n",
    "    H = copy(A);\n",
    "    \n",
    "    for i in m:-1:m-n+1\n",
    "        u = H[i, :];\n",
    "        u[i : m] *= 0.0;\n",
    "        u[i - 1] -= norm(u);\n",
    "        u/= norm(u);\n",
    "        Q = Matrix(I, m, m)- 2 * kron(u, u');\n",
    "        H = Q * H * Q';\n",
    "    end\n",
    "    \n",
    "    display(H)\n",
    "    display(eigvals(A))\n",
    "    display(eigvals(H))\n",
    "    display(norm(eigvals(H)-eigvals(A)))\n",
    "    \n",
    "    return H\n",
    "end"
   ]
  },
  {
   "cell_type": "markdown",
   "id": "76615773",
   "metadata": {},
   "source": [
    "## Question 4 - Jenni\n",
    "### Run Hess2 halfway up a matrix A to get a matrix H2.  Run Hess3 on H2 to get a matrix H3. Describe the structure of the matrix H3."
   ]
  },
  {
   "cell_type": "code",
   "execution_count": null,
   "id": "153b06f4",
   "metadata": {},
   "outputs": [],
   "source": []
  },
  {
   "cell_type": "markdown",
   "id": "7ec970be",
   "metadata": {},
   "source": [
    "## Testing"
   ]
  },
  {
   "cell_type": "code",
   "execution_count": 5,
   "id": "0161f6e2",
   "metadata": {
    "tags": []
   },
   "outputs": [
    {
     "data": {
      "text/plain": [
       "6×6 Matrix{Float64}:\n",
       "  0.501484   -0.0957947  -0.470941  -0.53861    0.224      0.265148\n",
       " -0.336857   -0.12082    -0.797865   0.623683   0.800059  -0.422894\n",
       " -0.0689674  -0.494483   -0.389551   0.69819    0.909659   0.494362\n",
       " -0.587236   -0.666842    0.136347  -0.909383  -0.654119  -0.23505\n",
       " -0.871211    0.876469   -0.952247  -0.734376  -0.181709   0.435525\n",
       "  0.492219    0.935036   -0.160241   0.264087  -0.866861   0.785179"
      ]
     },
     "execution_count": 5,
     "metadata": {},
     "output_type": "execute_result"
    }
   ],
   "source": [
    "m = 6;\n",
    "A = rand(Uniform(-1.0, 1.0), (m, m))"
   ]
  },
  {
   "cell_type": "code",
   "execution_count": 64,
   "id": "fb7d82ff",
   "metadata": {
    "tags": []
   },
   "outputs": [
    {
     "data": {
      "text/plain": [
       "6×6 Matrix{Float64}:\n",
       "  0.829697      0.323343      0.100562     …  -0.61206     0.0698322\n",
       " -1.09858      -0.582497     -0.682085        -0.504967    0.572014\n",
       " -1.32937e-16   0.880038      0.0865341        0.391004    0.221237\n",
       " -1.26146e-17  -1.95655e-17   1.2728           0.0225113   0.211191\n",
       " -3.23634e-17  -1.14883e-18  -1.45081e-17     -0.570493   -0.559324\n",
       " -1.09402e-16   5.6797e-17   -1.5271e-16   …   1.40123     0.785179"
      ]
     },
     "metadata": {},
     "output_type": "display_data"
    },
    {
     "data": {
      "text/plain": [
       "6-element Vector{ComplexF64}:\n",
       " -1.271415846816232 - 0.8433963801976924im\n",
       " -1.271415846816232 + 0.8433963801976924im\n",
       " 0.2042623765310138 - 0.961554357024547im\n",
       " 0.2042623765310138 + 0.961554357024547im\n",
       " 0.9097535114840485 - 0.3338389229456241im\n",
       " 0.9097535114840485 + 0.3338389229456241im"
      ]
     },
     "metadata": {},
     "output_type": "display_data"
    },
    {
     "data": {
      "text/plain": [
       "6-element Vector{ComplexF64}:\n",
       " -1.2714158468162298 - 0.8433963801976915im\n",
       " -1.2714158468162298 + 0.8433963801976915im\n",
       "  0.2042623765310144 - 0.9615543570245465im\n",
       "  0.2042623765310144 + 0.9615543570245465im\n",
       "  0.9097535114840496 - 0.3338389229456234im\n",
       "  0.9097535114840496 + 0.3338389229456234im"
      ]
     },
     "metadata": {},
     "output_type": "display_data"
    },
    {
     "data": {
      "text/plain": [
       "4.0023886499733225e-15"
      ]
     },
     "metadata": {},
     "output_type": "display_data"
    },
    {
     "data": {
      "text/plain": [
       "6×6 Matrix{Float64}:\n",
       "  0.829697      0.323343      0.100562     …  -0.61206     0.0698322\n",
       " -1.09858      -0.582497     -0.682085        -0.504967    0.572014\n",
       " -1.32937e-16   0.880038      0.0865341        0.391004    0.221237\n",
       " -1.26146e-17  -1.95655e-17   1.2728           0.0225113   0.211191\n",
       " -3.23634e-17  -1.14883e-18  -1.45081e-17     -0.570493   -0.559324\n",
       " -1.09402e-16   5.6797e-17   -1.5271e-16   …   1.40123     0.785179"
      ]
     },
     "execution_count": 64,
     "metadata": {},
     "output_type": "execute_result"
    }
   ],
   "source": [
    "Hess3(A,m,4)"
   ]
  },
  {
   "cell_type": "code",
   "execution_count": null,
   "id": "cec838ff",
   "metadata": {},
   "outputs": [],
   "source": []
  }
 ],
 "metadata": {
  "kernelspec": {
   "display_name": "Julia 1.9.3",
   "language": "julia",
   "name": "julia-1.9"
  },
  "language_info": {
   "file_extension": ".jl",
   "mimetype": "application/julia",
   "name": "julia",
   "version": "1.9.3"
  }
 },
 "nbformat": 4,
 "nbformat_minor": 5
}
